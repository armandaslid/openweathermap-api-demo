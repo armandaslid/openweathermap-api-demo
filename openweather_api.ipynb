{
 "cells": [
  {
   "cell_type": "markdown",
   "id": "65445720",
   "metadata": {},
   "source": [
    "Endpoint:       https://api.openweathermap.org/data/2.5/weather (One city)\n",
    "\n",
    "\n",
    "Grpup endpoint: https://api.openweathermap.org/data/2.5/group (Multiple cities)"
   ]
  },
  {
   "cell_type": "code",
   "execution_count": null,
   "id": "8d51c138",
   "metadata": {},
   "outputs": [],
   "source": [
    "# Import requests library / Bibliothek requests importieren\n",
    "\n",
    "import requests\n"
   ]
  },
  {
   "cell_type": "code",
   "execution_count": null,
   "id": "94a6715b",
   "metadata": {},
   "outputs": [
    {
     "name": "stdout",
     "output_type": "stream",
     "text": [
      "Key loaded successfully. Length: 32 / Schlüssel erfolgreich geladen. Länge: 32\n"
     ]
    }
   ],
   "source": [
    "# Read API key from file / API-Schlüssel aus Datei lesen\n",
    "\n",
    "with open(\"../_api_keys/openweather.txt\", \"r\") as file:\n",
    "    API_KEY = file.read().strip()\n",
    "\n",
    "# Check if the API key has the correct length (32 characters) / Prüfen, ob der API-Schlüssel die richtige Länge hat (32 Zeichen)\n",
    "\n",
    "if len(API_KEY) == 32:\n",
    "    print(f\"Key loaded successfully. Length: {len(API_KEY)} / Schlüssel erfolgreich geladen. Länge: {len(API_KEY)}\")\n",
    "else:\n",
    "    print(f\"Invalid API key length: {len(API_KEY)}. Should be 32 characters / Ungültige API-Schlüssellänge: {len(API_KEY)}. Sollte 32 Zeichen haben\")\n"
   ]
  },
  {
   "cell_type": "code",
   "execution_count": null,
   "id": "af6953e6",
   "metadata": {},
   "outputs": [
    {
     "name": "stdout",
     "output_type": "stream",
     "text": [
      "[{'coord': {'lon': 8.8078, 'lat': 53.0752}, 'weather': [{'id': 804, 'main': 'Clouds', 'description': 'overcast clouds', 'icon': '04d'}], 'base': 'stations', 'main': {'temp': 16.99, 'feels_like': 17.02, 'temp_min': 16.89, 'temp_max': 20.01, 'pressure': 1020, 'humidity': 87, 'sea_level': 1020, 'grnd_level': 1019}, 'visibility': 10000, 'wind': {'speed': 3.6, 'deg': 300}, 'clouds': {'all': 100}, 'dt': 1755424205, 'sys': {'type': 1, 'id': 1281, 'country': 'DE', 'sunrise': 1755403753, 'sunset': 1755456525}, 'timezone': 7200, 'id': 2944388, 'name': 'Bremen', 'cod': 200}, {'coord': {'lon': 9.7332, 'lat': 52.3705}, 'weather': [{'id': 803, 'main': 'Clouds', 'description': 'broken clouds', 'icon': '04d'}], 'base': 'stations', 'main': {'temp': 16.32, 'feels_like': 16.33, 'temp_min': 14.98, 'temp_max': 17.15, 'pressure': 1021, 'humidity': 89, 'sea_level': 1021, 'grnd_level': 1013}, 'visibility': 7000, 'wind': {'speed': 4.12, 'deg': 300}, 'clouds': {'all': 75}, 'dt': 1755424201, 'sys': {'type': 2, 'id': 2034345, 'country': 'DE', 'sunrise': 1755403653, 'sunset': 1755456181}, 'timezone': 7200, 'id': 2910831, 'name': 'Hanover', 'cod': 200}, {'coord': {'lon': 11.5755, 'lat': 48.1374}, 'weather': [{'id': 804, 'main': 'Clouds', 'description': 'overcast clouds', 'icon': '04d'}], 'base': 'stations', 'main': {'temp': 20.91, 'feels_like': 21.04, 'temp_min': 19.36, 'temp_max': 21.32, 'pressure': 1018, 'humidity': 76, 'sea_level': 1018, 'grnd_level': 956}, 'visibility': 10000, 'wind': {'speed': 1.4, 'deg': 340, 'gust': 2.36}, 'clouds': {'all': 94}, 'dt': 1755424290, 'sys': {'type': 2, 'id': 2013241, 'country': 'DE', 'sunrise': 1755403863, 'sunset': 1755455087}, 'timezone': 7200, 'id': 2867714, 'name': 'Munich', 'cod': 200}]\n"
     ]
    }
   ],
   "source": [
    "# Set variables for cities, URL template and get the data / Variablen für Städte, URL-Vorlage setzen und Daten abrufen\n",
    "\n",
    "cities = [\"Bremen\", \"Hanover\", \"Munich\"]\n",
    "all_data = []\n",
    "\n",
    "for city in cities:\n",
    "    url = f\"https://api.openweathermap.org/data/2.5/weather?q={city}&appid={API_KEY}&units=metric\"\n",
    "    response = requests.get(url)\n",
    "    data = response.json()\n",
    "    all_data.append(data)\n",
    "\n",
    "print(all_data)  # This prints the weather info / Gibt die Wetterinformationen aus\n"
   ]
  },
  {
   "cell_type": "code",
   "execution_count": null,
   "id": "8e03244b",
   "metadata": {},
   "outputs": [
    {
     "name": "stdout",
     "output_type": "stream",
     "text": [
      "Data saved to weather_multiple_cities.json / Daten gespeichert in weather_multiple_cities.json\n"
     ]
    }
   ],
   "source": [
    "# Save the weather data as a JSON file / Wetterdaten als JSON-Datei speichern\n",
    "\n",
    "import json\n",
    "\n",
    "# Specify the filename / Dateiname festlegen\n",
    "\n",
    "filename = \"weather_multiple_cities.json\"\n",
    "\n",
    "# Write data to JSON file / Daten in JSON-Datei schreiben\n",
    "\n",
    "with open(filename, \"w\", encoding=\"utf-8\") as f:\n",
    "    json.dump(all_data, f, ensure_ascii=False, indent=4)\n",
    "\n",
    "print(f\"Data saved to {filename} / Daten gespeichert in {filename}\")\n"
   ]
  },
  {
   "cell_type": "code",
   "execution_count": null,
   "id": "2b18ab1f",
   "metadata": {},
   "outputs": [
    {
     "data": {
      "text/html": [
       "<div>\n",
       "<style scoped>\n",
       "    .dataframe tbody tr th:only-of-type {\n",
       "        vertical-align: middle;\n",
       "    }\n",
       "\n",
       "    .dataframe tbody tr th {\n",
       "        vertical-align: top;\n",
       "    }\n",
       "\n",
       "    .dataframe thead th {\n",
       "        text-align: right;\n",
       "    }\n",
       "</style>\n",
       "<table border=\"1\" class=\"dataframe\">\n",
       "  <thead>\n",
       "    <tr style=\"text-align: right;\">\n",
       "      <th></th>\n",
       "      <th>city</th>\n",
       "      <th>country</th>\n",
       "      <th>temp</th>\n",
       "      <th>feels_like</th>\n",
       "      <th>temp_min</th>\n",
       "      <th>temp_max</th>\n",
       "      <th>humidity</th>\n",
       "      <th>weather</th>\n",
       "      <th>wind_speed</th>\n",
       "      <th>clouds</th>\n",
       "    </tr>\n",
       "  </thead>\n",
       "  <tbody>\n",
       "    <tr>\n",
       "      <th>0</th>\n",
       "      <td>Bremen</td>\n",
       "      <td>DE</td>\n",
       "      <td>16.99</td>\n",
       "      <td>17.02</td>\n",
       "      <td>16.89</td>\n",
       "      <td>20.01</td>\n",
       "      <td>87</td>\n",
       "      <td>overcast clouds</td>\n",
       "      <td>3.60</td>\n",
       "      <td>100</td>\n",
       "    </tr>\n",
       "    <tr>\n",
       "      <th>1</th>\n",
       "      <td>Hanover</td>\n",
       "      <td>DE</td>\n",
       "      <td>16.32</td>\n",
       "      <td>16.33</td>\n",
       "      <td>14.98</td>\n",
       "      <td>17.15</td>\n",
       "      <td>89</td>\n",
       "      <td>broken clouds</td>\n",
       "      <td>4.12</td>\n",
       "      <td>75</td>\n",
       "    </tr>\n",
       "    <tr>\n",
       "      <th>2</th>\n",
       "      <td>Munich</td>\n",
       "      <td>DE</td>\n",
       "      <td>20.91</td>\n",
       "      <td>21.04</td>\n",
       "      <td>19.36</td>\n",
       "      <td>21.32</td>\n",
       "      <td>76</td>\n",
       "      <td>overcast clouds</td>\n",
       "      <td>1.40</td>\n",
       "      <td>94</td>\n",
       "    </tr>\n",
       "  </tbody>\n",
       "</table>\n",
       "</div>"
      ],
      "text/plain": [
       "      city country   temp  feels_like  temp_min  temp_max  humidity  \\\n",
       "0   Bremen      DE  16.99       17.02     16.89     20.01        87   \n",
       "1  Hanover      DE  16.32       16.33     14.98     17.15        89   \n",
       "2   Munich      DE  20.91       21.04     19.36     21.32        76   \n",
       "\n",
       "           weather  wind_speed  clouds  \n",
       "0  overcast clouds        3.60     100  \n",
       "1    broken clouds        4.12      75  \n",
       "2  overcast clouds        1.40      94  "
      ]
     },
     "execution_count": 16,
     "metadata": {},
     "output_type": "execute_result"
    }
   ],
   "source": [
    "# Convert all_data to a pandas DataFrame / all_data in ein Pandas DataFrame umwandeln\n",
    "\n",
    "import pandas as pd\n",
    "\n",
    "# Flatten key fields for each city / Wichtige Felder für jede Stadt extrahieren\n",
    "\n",
    "flattened_data = []\n",
    "\n",
    "for data in all_data:\n",
    "    city_data = {\n",
    "        \"city\": data[\"name\"],  # City name / Stadtname\n",
    "        \"country\": data[\"sys\"][\"country\"],  # Country code / Ländercode\n",
    "        \"temp\": data[\"main\"][\"temp\"],  # Temperature / Temperatur\n",
    "        \"feels_like\": data[\"main\"][\"feels_like\"],  # Feels like / Gefühlt\n",
    "        \"temp_min\": data[\"main\"][\"temp_min\"],  # Min temp / Min. Temperatur\n",
    "        \"temp_max\": data[\"main\"][\"temp_max\"],  # Max temp / Max. Temperatur\n",
    "        \"humidity\": data[\"main\"][\"humidity\"],  # Humidity / Luftfeuchtigkeit\n",
    "        \"weather\": data[\"weather\"][0][\"description\"],  # Weather description / Wetterbeschreibung\n",
    "        \"wind_speed\": data[\"wind\"][\"speed\"],  # Wind speed / Windgeschwindigkeit\n",
    "        \"clouds\": data[\"clouds\"][\"all\"]  # Cloudiness / Bewölkung\n",
    "    }\n",
    "    flattened_data.append(city_data)\n",
    "\n",
    "# Create DataFrame / DataFrame erstellen\n",
    "df = pd.DataFrame(flattened_data)\n",
    "\n",
    "# Display the table / Tabelle anzeigen\n",
    "df\n"
   ]
  },
  {
   "cell_type": "code",
   "execution_count": null,
   "id": "769a87ca",
   "metadata": {},
   "outputs": [
    {
     "name": "stdout",
     "output_type": "stream",
     "text": [
      "Data saved to weather_multiple_cities.csv / Daten gespeichert in weather_multiple_cities.csv\n"
     ]
    }
   ],
   "source": [
    "# Save DataFrame to CSV / DataFrame als CSV speichern\n",
    "csv_filename = \"weather_multiple_cities.csv\"\n",
    "\n",
    "# Save without the index column / Ohne Index-Spalte speichern\n",
    "df.to_csv(csv_filename, index=False, encoding=\"utf-8\")\n",
    "\n",
    "print(f\"Data saved to {csv_filename} / Daten gespeichert in {csv_filename}\")\n"
   ]
  },
  {
   "cell_type": "code",
   "execution_count": 18,
   "id": "d6bfdfae",
   "metadata": {},
   "outputs": [
    {
     "name": "stdout",
     "output_type": "stream",
     "text": [
      "{'coord': {'lon': 8.8078, 'lat': 53.0752}, 'weather': [{'id': 803, 'main': 'Clouds', 'description': 'broken clouds', 'icon': '04d'}], 'base': 'stations', 'main': {'temp': 17.92, 'feels_like': 17.91, 'temp_min': 17.89, 'temp_max': 19.45, 'pressure': 1020, 'humidity': 82, 'sea_level': 1020, 'grnd_level': 1019}, 'visibility': 10000, 'wind': {'speed': 4.12, 'deg': 320}, 'clouds': {'all': 75}, 'dt': 1755425015, 'sys': {'type': 1, 'id': 1281, 'country': 'DE', 'sunrise': 1755403753, 'sunset': 1755456525}, 'timezone': 7200, 'id': 2944388, 'name': 'Bremen', 'cod': 200}\n"
     ]
    }
   ],
   "source": [
    "# Using GET\n",
    "\n",
    "# URL of the API endpoint\n",
    "url = \"https://api.openweathermap.org/data/2.5/weather\"\n",
    "\n",
    "# Parameters for the request / Parameter für die Anfrage\n",
    "params = {\n",
    "    \"q\": \"Bremen\",        # City name / Stadtname\n",
    "    \"appid\": API_KEY,      # Your API key / API-Schlüssel\n",
    "    \"units\": \"metric\"      # Temperature in Celsius / Temperatur in Celsius\n",
    "}\n",
    "\n",
    "# Send GET request / GET-Anfrage senden\n",
    "response = requests.get(url, params=params)\n",
    "\n",
    "# Check status code / Statuscode prüfen\n",
    "if response.status_code == 200:\n",
    "    data = response.json()  # Convert response to JSON / Antwort in JSON umwandeln\n",
    "    print(data)\n",
    "else:\n",
    "    print(\"Error:\", response.status_code)"
   ]
  },
  {
   "cell_type": "markdown",
   "id": "a778e758",
   "metadata": {},
   "source": [
    "We use **GET** to retrieve data from the API. **GET** requests are simple and safe, because they only ask for information and do not change anything on the server. In the first approach with a manual loop, we were sending multiple **GET** requests, one per city. Using **GET** directly is standard for fetching data like weather, stock prices, or news."
   ]
  },
  {
   "cell_type": "markdown",
   "id": "8f3be6f7",
   "metadata": {},
   "source": [
    "Wir verwenden **GET**, um Daten von der API abzurufen. **GET**-Anfragen sind einfach und sicher, weil sie nur Informationen anfordern und nichts auf dem Server ändern. Im ersten Ansatz mit der Schleife haben wir mehrere **GET**-Anfragen geschickt, eine pro Stadt. **GET** direkt zu verwenden ist Standard, um z. B. Wetterdaten, Aktienkurse oder Nachrichten abzurufen."
   ]
  },
  {
   "cell_type": "code",
   "execution_count": 20,
   "id": "073413d8",
   "metadata": {},
   "outputs": [
    {
     "name": "stdout",
     "output_type": "stream",
     "text": [
      "Bremen: 17.96°C, broken clouds\n",
      "Hanover: 17.05°C, light rain\n",
      "Munich: 20.56°C, overcast clouds\n"
     ]
    }
   ],
   "source": [
    "# GET: List of cities we want to fetch / Liste der Städte, für die wir das Wetter abrufen möchten\n",
    "cities = [\"Bremen\", \"Hanover\", \"Munich\"]\n",
    "all_data = []\n",
    "\n",
    "# Loop over city names and make GET requests / Schleife über die Städtenamen und GET-Anfragen stellen\n",
    "for city in cities:\n",
    "    url = \"https://api.openweathermap.org/data/2.5/weather\"\n",
    "    params = {\n",
    "        \"q\": city,\n",
    "        \"appid\": API_KEY,\n",
    "        \"units\": \"metric\"\n",
    "    }\n",
    "    response = requests.get(url, params=params)\n",
    "    \n",
    "    if response.status_code == 200:\n",
    "        all_data.append(response.json())  # Add city data to the list / Stadt-Daten zur Liste hinzufügen\n",
    "    else:\n",
    "        print(f\"Error fetching {city}: {response.status_code}\")\n",
    "\n",
    "# Print weather data for all cities / Wetterdaten für alle Städte ausgeben\n",
    "for city_data in all_data:\n",
    "    name = city_data[\"name\"]\n",
    "    temp = city_data[\"main\"][\"temp\"]\n",
    "    description = city_data[\"weather\"][0][\"description\"]\n",
    "    print(f\"{name}: {temp}°C, {description}\")\n"
   ]
  },
  {
   "cell_type": "markdown",
   "id": "5be427ec",
   "metadata": {},
   "source": [
    "Other **REST API** methods / Weitere **REST-API**-Methoden:\n",
    "\n",
    "- **POST**: Send new data to the server to create a resource. / Neue Daten an den Server senden, um eine Ressource zu erstellen.\n",
    "- **PUT**: Update an existing resource completely. You send the full object. / Eine bestehende Ressource vollständig aktualisieren. Das gesamte Objekt wird gesendet.\n",
    "- **PATCH**: Update part of a resource. You send only the fields to change. / Eine Ressource teilweise aktualisieren. Nur die zu ändernden Felder werden gesendet.\n",
    "- **DELETE**: Delete a resource from the server. / Eine Ressource auf dem Server löschen."
   ]
  }
 ],
 "metadata": {
  "kernelspec": {
   "display_name": ".data",
   "language": "python",
   "name": "python3"
  },
  "language_info": {
   "codemirror_mode": {
    "name": "ipython",
    "version": 3
   },
   "file_extension": ".py",
   "mimetype": "text/x-python",
   "name": "python",
   "nbconvert_exporter": "python",
   "pygments_lexer": "ipython3",
   "version": "3.13.5"
  }
 },
 "nbformat": 4,
 "nbformat_minor": 5
}
